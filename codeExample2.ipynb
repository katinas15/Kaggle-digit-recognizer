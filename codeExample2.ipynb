{
 "cells": [
  {
   "cell_type": "markdown",
   "source": [
    "www.kaggle.com/dansbecker/deep-learning-"
   ],
   "metadata": {}
  },
  {
   "cell_type": "code",
   "execution_count": null,
   "source": [],
   "outputs": [],
   "metadata": {}
  },
  {
   "cell_type": "code",
   "execution_count": 8,
   "source": [
    "import numpy as np\r\n",
    "import pandas as pd\r\n",
    "from sklearn.model_selection import train_test_split\r\n",
    "from tensorflow import keras\r\n",
    "from tensorflow.keras.utils import to_categorical\r\n",
    "from tensorflow.keras.models import Sequential\r\n",
    "from tensorflow.keras.layers import Dense, Flatten, Conv2D, Dropout\r\n",
    "\r\n",
    "\r\n",
    "img_rows, img_cols = 28, 28\r\n",
    "num_classes = 10\r\n",
    "\r\n",
    "def data_prep(raw):\r\n",
    "    out_y = keras.utils.to_categorical(raw.label, num_classes)\r\n",
    "    num_images = raw.shape[0]\r\n",
    "    x_as_array = raw.values[:,1:]\r\n",
    "    x_shaped_array = x_as_array.reshape(num_images, img_rows, img_cols, 1)\r\n",
    "    out_x = x_shaped_array / 255\r\n",
    "    return out_x, out_y\r\n",
    "\r\n",
    "train_file = \"./train.csv\"\r\n",
    "raw_data = pd.read_csv(train_file)\r\n",
    "\r\n",
    "x, y = data_prep(raw_data)\r\n",
    "\r\n",
    "model = Sequential()\r\n",
    "model.add(Conv2D(20, kernel_size=(3, 3),\r\n",
    "                 activation='relu',\r\n",
    "                 input_shape=(img_rows, img_cols, 1)))\r\n",
    "model.add(Conv2D(20, kernel_size=(3, 3), activation='relu'))\r\n",
    "model.add(Flatten())\r\n",
    "model.add(Dense(128, activation='relu'))\r\n",
    "model.add(Dense(num_classes, activation='softmax'))\r\n",
    "\r\n",
    "model.compile(loss=keras.losses.categorical_crossentropy,\r\n",
    "              optimizer='adam',\r\n",
    "              metrics=['accuracy'])\r\n",
    "\r\n",
    "model.fit(x, y,\r\n",
    "          batch_size=128,\r\n",
    "          epochs=20,\r\n",
    "          validation_split = 0.2)"
   ],
   "outputs": [
    {
     "output_type": "stream",
     "name": "stdout",
     "text": [
      "Epoch 1/20\n",
      "263/263 [==============================] - 2s 5ms/step - loss: 0.2323 - accuracy: 0.9327 - val_loss: 0.0903 - val_accuracy: 0.9712\n",
      "Epoch 2/20\n",
      "263/263 [==============================] - 1s 3ms/step - loss: 0.0623 - accuracy: 0.9810 - val_loss: 0.0654 - val_accuracy: 0.9789\n",
      "Epoch 3/20\n",
      "263/263 [==============================] - 1s 3ms/step - loss: 0.0372 - accuracy: 0.9884 - val_loss: 0.0640 - val_accuracy: 0.9799\n",
      "Epoch 4/20\n",
      "263/263 [==============================] - 1s 3ms/step - loss: 0.0226 - accuracy: 0.9929 - val_loss: 0.0641 - val_accuracy: 0.9811\n",
      "Epoch 5/20\n",
      "263/263 [==============================] - 1s 3ms/step - loss: 0.0167 - accuracy: 0.9946 - val_loss: 0.0595 - val_accuracy: 0.9839\n",
      "Epoch 6/20\n",
      "263/263 [==============================] - 1s 3ms/step - loss: 0.0119 - accuracy: 0.9962 - val_loss: 0.0633 - val_accuracy: 0.9824\n",
      "Epoch 7/20\n",
      "263/263 [==============================] - 1s 3ms/step - loss: 0.0062 - accuracy: 0.9981 - val_loss: 0.0565 - val_accuracy: 0.9858\n",
      "Epoch 8/20\n",
      "263/263 [==============================] - 1s 3ms/step - loss: 0.0053 - accuracy: 0.9983 - val_loss: 0.0677 - val_accuracy: 0.9843\n",
      "Epoch 9/20\n",
      "263/263 [==============================] - 1s 3ms/step - loss: 0.0067 - accuracy: 0.9977 - val_loss: 0.0702 - val_accuracy: 0.9830\n",
      "Epoch 10/20\n",
      "263/263 [==============================] - 1s 3ms/step - loss: 0.0064 - accuracy: 0.9978 - val_loss: 0.0797 - val_accuracy: 0.9832\n",
      "Epoch 11/20\n",
      "263/263 [==============================] - 1s 3ms/step - loss: 0.0044 - accuracy: 0.9986 - val_loss: 0.0803 - val_accuracy: 0.9832\n",
      "Epoch 12/20\n",
      "263/263 [==============================] - 1s 3ms/step - loss: 0.0078 - accuracy: 0.9974 - val_loss: 0.0687 - val_accuracy: 0.9835\n",
      "Epoch 13/20\n",
      "263/263 [==============================] - 1s 3ms/step - loss: 0.0054 - accuracy: 0.9980 - val_loss: 0.0800 - val_accuracy: 0.9844\n",
      "Epoch 14/20\n",
      "263/263 [==============================] - 1s 3ms/step - loss: 0.0052 - accuracy: 0.9982 - val_loss: 0.0736 - val_accuracy: 0.9848\n",
      "Epoch 15/20\n",
      "263/263 [==============================] - 1s 3ms/step - loss: 0.0042 - accuracy: 0.9986 - val_loss: 0.0745 - val_accuracy: 0.9864\n",
      "Epoch 16/20\n",
      "263/263 [==============================] - 1s 3ms/step - loss: 7.5937e-04 - accuracy: 0.9998 - val_loss: 0.0671 - val_accuracy: 0.9869\n",
      "Epoch 17/20\n",
      "263/263 [==============================] - 1s 3ms/step - loss: 9.4850e-05 - accuracy: 1.0000 - val_loss: 0.0701 - val_accuracy: 0.9879\n",
      "Epoch 18/20\n",
      "263/263 [==============================] - 1s 3ms/step - loss: 3.4406e-05 - accuracy: 1.0000 - val_loss: 0.0715 - val_accuracy: 0.9880\n",
      "Epoch 19/20\n",
      "263/263 [==============================] - 1s 3ms/step - loss: 2.3662e-05 - accuracy: 1.0000 - val_loss: 0.0732 - val_accuracy: 0.9881\n",
      "Epoch 20/20\n",
      "263/263 [==============================] - 1s 3ms/step - loss: 1.8339e-05 - accuracy: 1.0000 - val_loss: 0.0744 - val_accuracy: 0.9881\n"
     ]
    },
    {
     "output_type": "execute_result",
     "data": {
      "text/plain": [
       "<tensorflow.python.keras.callbacks.History at 0x29e30fce4c0>"
      ]
     },
     "metadata": {},
     "execution_count": 8
    }
   ],
   "metadata": {}
  },
  {
   "cell_type": "code",
   "execution_count": 11,
   "source": [
    "digits_training_data = pd.read_csv('./test.csv')\r\n",
    "test_X = digits_training_data.copy()\r\n",
    "test_X = test_X.reshape(X_test.shape[0], 28, 28,1)\r\n",
    "\r\n",
    "prediction = model.predict(test_X)\r\n",
    "\r\n",
    "\r\n",
    "\r\n",
    "submissions=pd.DataFrame({\"ImageId\": list(range(1,len(prediction)+1)),\r\n",
    "                         \"Label\": prediction})\r\n",
    "submissions.to_csv(\"DR2.csv\", index=False, header=True)"
   ],
   "outputs": [
    {
     "output_type": "error",
     "ename": "AttributeError",
     "evalue": "'DataFrame' object has no attribute 'reshape'",
     "traceback": [
      "\u001b[1;31m---------------------------------------------------------------------------\u001b[0m",
      "\u001b[1;31mAttributeError\u001b[0m                            Traceback (most recent call last)",
      "\u001b[1;32m~\\AppData\\Local\\Temp/ipykernel_8140/1521884566.py\u001b[0m in \u001b[0;36m<module>\u001b[1;34m\u001b[0m\n\u001b[0;32m      1\u001b[0m \u001b[0mdigits_training_data\u001b[0m \u001b[1;33m=\u001b[0m \u001b[0mpd\u001b[0m\u001b[1;33m.\u001b[0m\u001b[0mread_csv\u001b[0m\u001b[1;33m(\u001b[0m\u001b[1;34m'./test.csv'\u001b[0m\u001b[1;33m)\u001b[0m\u001b[1;33m\u001b[0m\u001b[1;33m\u001b[0m\u001b[0m\n\u001b[0;32m      2\u001b[0m \u001b[0mtest_X\u001b[0m \u001b[1;33m=\u001b[0m \u001b[0mdigits_training_data\u001b[0m\u001b[1;33m.\u001b[0m\u001b[0mcopy\u001b[0m\u001b[1;33m(\u001b[0m\u001b[1;33m)\u001b[0m\u001b[1;33m\u001b[0m\u001b[1;33m\u001b[0m\u001b[0m\n\u001b[1;32m----> 3\u001b[1;33m \u001b[0mtest_X\u001b[0m \u001b[1;33m=\u001b[0m \u001b[0mtest_X\u001b[0m\u001b[1;33m.\u001b[0m\u001b[0mreshape\u001b[0m\u001b[1;33m(\u001b[0m\u001b[0mX_test\u001b[0m\u001b[1;33m.\u001b[0m\u001b[0mshape\u001b[0m\u001b[1;33m[\u001b[0m\u001b[1;36m0\u001b[0m\u001b[1;33m]\u001b[0m\u001b[1;33m,\u001b[0m \u001b[1;36m28\u001b[0m\u001b[1;33m,\u001b[0m \u001b[1;36m28\u001b[0m\u001b[1;33m,\u001b[0m\u001b[1;36m1\u001b[0m\u001b[1;33m)\u001b[0m\u001b[1;33m\u001b[0m\u001b[1;33m\u001b[0m\u001b[0m\n\u001b[0m\u001b[0;32m      4\u001b[0m \u001b[1;33m\u001b[0m\u001b[0m\n\u001b[0;32m      5\u001b[0m \u001b[0mprediction\u001b[0m \u001b[1;33m=\u001b[0m \u001b[0mmodel\u001b[0m\u001b[1;33m.\u001b[0m\u001b[0mpredict\u001b[0m\u001b[1;33m(\u001b[0m\u001b[0mtest_X\u001b[0m\u001b[1;33m)\u001b[0m\u001b[1;33m\u001b[0m\u001b[1;33m\u001b[0m\u001b[0m\n",
      "\u001b[1;32m~\\anaconda3\\envs\\tf\\lib\\site-packages\\pandas\\core\\generic.py\u001b[0m in \u001b[0;36m__getattr__\u001b[1;34m(self, name)\u001b[0m\n\u001b[0;32m   5485\u001b[0m         ):\n\u001b[0;32m   5486\u001b[0m             \u001b[1;32mreturn\u001b[0m \u001b[0mself\u001b[0m\u001b[1;33m[\u001b[0m\u001b[0mname\u001b[0m\u001b[1;33m]\u001b[0m\u001b[1;33m\u001b[0m\u001b[1;33m\u001b[0m\u001b[0m\n\u001b[1;32m-> 5487\u001b[1;33m         \u001b[1;32mreturn\u001b[0m \u001b[0mobject\u001b[0m\u001b[1;33m.\u001b[0m\u001b[0m__getattribute__\u001b[0m\u001b[1;33m(\u001b[0m\u001b[0mself\u001b[0m\u001b[1;33m,\u001b[0m \u001b[0mname\u001b[0m\u001b[1;33m)\u001b[0m\u001b[1;33m\u001b[0m\u001b[1;33m\u001b[0m\u001b[0m\n\u001b[0m\u001b[0;32m   5488\u001b[0m \u001b[1;33m\u001b[0m\u001b[0m\n\u001b[0;32m   5489\u001b[0m     \u001b[1;32mdef\u001b[0m \u001b[0m__setattr__\u001b[0m\u001b[1;33m(\u001b[0m\u001b[0mself\u001b[0m\u001b[1;33m,\u001b[0m \u001b[0mname\u001b[0m\u001b[1;33m:\u001b[0m \u001b[0mstr\u001b[0m\u001b[1;33m,\u001b[0m \u001b[0mvalue\u001b[0m\u001b[1;33m)\u001b[0m \u001b[1;33m->\u001b[0m \u001b[1;32mNone\u001b[0m\u001b[1;33m:\u001b[0m\u001b[1;33m\u001b[0m\u001b[1;33m\u001b[0m\u001b[0m\n",
      "\u001b[1;31mAttributeError\u001b[0m: 'DataFrame' object has no attribute 'reshape'"
     ]
    }
   ],
   "metadata": {}
  }
 ],
 "metadata": {
  "orig_nbformat": 4,
  "language_info": {
   "name": "python",
   "version": "3.9.7",
   "mimetype": "text/x-python",
   "codemirror_mode": {
    "name": "ipython",
    "version": 3
   },
   "pygments_lexer": "ipython3",
   "nbconvert_exporter": "python",
   "file_extension": ".py"
  },
  "kernelspec": {
   "name": "python3",
   "display_name": "Python 3.9.7 64-bit ('tf': conda)"
  },
  "interpreter": {
   "hash": "f25a34d828536eaea94bc98fa02bf2fcbf5af5b65bea44899cc5ad2220dc98c9"
  }
 },
 "nbformat": 4,
 "nbformat_minor": 2
}