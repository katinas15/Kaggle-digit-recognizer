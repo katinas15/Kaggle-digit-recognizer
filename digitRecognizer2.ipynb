{
 "cells": [
  {
   "cell_type": "code",
   "execution_count": 1,
   "source": [
    "import pandas as pd\r\n",
    "\r\n",
    "digits_training_data = pd.read_csv('./train.csv')\r\n",
    "\r\n",
    "# X is all the features I will be training the dataset on \r\n",
    "X = digits_training_data.copy()\r\n",
    "# y is the prediction target\r\n",
    "# pop label from the X and at the same time set the target\r\n",
    "y = X.pop('label')\r\n",
    "\r\n",
    "X.head()\r\n",
    "# y.head()"
   ],
   "outputs": [
    {
     "output_type": "execute_result",
     "data": {
      "text/plain": [
       "   pixel0  pixel1  pixel2  pixel3  pixel4  pixel5  pixel6  pixel7  pixel8  \\\n",
       "0       0       0       0       0       0       0       0       0       0   \n",
       "1       0       0       0       0       0       0       0       0       0   \n",
       "2       0       0       0       0       0       0       0       0       0   \n",
       "3       0       0       0       0       0       0       0       0       0   \n",
       "4       0       0       0       0       0       0       0       0       0   \n",
       "\n",
       "   pixel9  ...  pixel774  pixel775  pixel776  pixel777  pixel778  pixel779  \\\n",
       "0       0  ...         0         0         0         0         0         0   \n",
       "1       0  ...         0         0         0         0         0         0   \n",
       "2       0  ...         0         0         0         0         0         0   \n",
       "3       0  ...         0         0         0         0         0         0   \n",
       "4       0  ...         0         0         0         0         0         0   \n",
       "\n",
       "   pixel780  pixel781  pixel782  pixel783  \n",
       "0         0         0         0         0  \n",
       "1         0         0         0         0  \n",
       "2         0         0         0         0  \n",
       "3         0         0         0         0  \n",
       "4         0         0         0         0  \n",
       "\n",
       "[5 rows x 784 columns]"
      ],
      "text/html": [
       "<div>\n",
       "<style scoped>\n",
       "    .dataframe tbody tr th:only-of-type {\n",
       "        vertical-align: middle;\n",
       "    }\n",
       "\n",
       "    .dataframe tbody tr th {\n",
       "        vertical-align: top;\n",
       "    }\n",
       "\n",
       "    .dataframe thead th {\n",
       "        text-align: right;\n",
       "    }\n",
       "</style>\n",
       "<table border=\"1\" class=\"dataframe\">\n",
       "  <thead>\n",
       "    <tr style=\"text-align: right;\">\n",
       "      <th></th>\n",
       "      <th>pixel0</th>\n",
       "      <th>pixel1</th>\n",
       "      <th>pixel2</th>\n",
       "      <th>pixel3</th>\n",
       "      <th>pixel4</th>\n",
       "      <th>pixel5</th>\n",
       "      <th>pixel6</th>\n",
       "      <th>pixel7</th>\n",
       "      <th>pixel8</th>\n",
       "      <th>pixel9</th>\n",
       "      <th>...</th>\n",
       "      <th>pixel774</th>\n",
       "      <th>pixel775</th>\n",
       "      <th>pixel776</th>\n",
       "      <th>pixel777</th>\n",
       "      <th>pixel778</th>\n",
       "      <th>pixel779</th>\n",
       "      <th>pixel780</th>\n",
       "      <th>pixel781</th>\n",
       "      <th>pixel782</th>\n",
       "      <th>pixel783</th>\n",
       "    </tr>\n",
       "  </thead>\n",
       "  <tbody>\n",
       "    <tr>\n",
       "      <th>0</th>\n",
       "      <td>0</td>\n",
       "      <td>0</td>\n",
       "      <td>0</td>\n",
       "      <td>0</td>\n",
       "      <td>0</td>\n",
       "      <td>0</td>\n",
       "      <td>0</td>\n",
       "      <td>0</td>\n",
       "      <td>0</td>\n",
       "      <td>0</td>\n",
       "      <td>...</td>\n",
       "      <td>0</td>\n",
       "      <td>0</td>\n",
       "      <td>0</td>\n",
       "      <td>0</td>\n",
       "      <td>0</td>\n",
       "      <td>0</td>\n",
       "      <td>0</td>\n",
       "      <td>0</td>\n",
       "      <td>0</td>\n",
       "      <td>0</td>\n",
       "    </tr>\n",
       "    <tr>\n",
       "      <th>1</th>\n",
       "      <td>0</td>\n",
       "      <td>0</td>\n",
       "      <td>0</td>\n",
       "      <td>0</td>\n",
       "      <td>0</td>\n",
       "      <td>0</td>\n",
       "      <td>0</td>\n",
       "      <td>0</td>\n",
       "      <td>0</td>\n",
       "      <td>0</td>\n",
       "      <td>...</td>\n",
       "      <td>0</td>\n",
       "      <td>0</td>\n",
       "      <td>0</td>\n",
       "      <td>0</td>\n",
       "      <td>0</td>\n",
       "      <td>0</td>\n",
       "      <td>0</td>\n",
       "      <td>0</td>\n",
       "      <td>0</td>\n",
       "      <td>0</td>\n",
       "    </tr>\n",
       "    <tr>\n",
       "      <th>2</th>\n",
       "      <td>0</td>\n",
       "      <td>0</td>\n",
       "      <td>0</td>\n",
       "      <td>0</td>\n",
       "      <td>0</td>\n",
       "      <td>0</td>\n",
       "      <td>0</td>\n",
       "      <td>0</td>\n",
       "      <td>0</td>\n",
       "      <td>0</td>\n",
       "      <td>...</td>\n",
       "      <td>0</td>\n",
       "      <td>0</td>\n",
       "      <td>0</td>\n",
       "      <td>0</td>\n",
       "      <td>0</td>\n",
       "      <td>0</td>\n",
       "      <td>0</td>\n",
       "      <td>0</td>\n",
       "      <td>0</td>\n",
       "      <td>0</td>\n",
       "    </tr>\n",
       "    <tr>\n",
       "      <th>3</th>\n",
       "      <td>0</td>\n",
       "      <td>0</td>\n",
       "      <td>0</td>\n",
       "      <td>0</td>\n",
       "      <td>0</td>\n",
       "      <td>0</td>\n",
       "      <td>0</td>\n",
       "      <td>0</td>\n",
       "      <td>0</td>\n",
       "      <td>0</td>\n",
       "      <td>...</td>\n",
       "      <td>0</td>\n",
       "      <td>0</td>\n",
       "      <td>0</td>\n",
       "      <td>0</td>\n",
       "      <td>0</td>\n",
       "      <td>0</td>\n",
       "      <td>0</td>\n",
       "      <td>0</td>\n",
       "      <td>0</td>\n",
       "      <td>0</td>\n",
       "    </tr>\n",
       "    <tr>\n",
       "      <th>4</th>\n",
       "      <td>0</td>\n",
       "      <td>0</td>\n",
       "      <td>0</td>\n",
       "      <td>0</td>\n",
       "      <td>0</td>\n",
       "      <td>0</td>\n",
       "      <td>0</td>\n",
       "      <td>0</td>\n",
       "      <td>0</td>\n",
       "      <td>0</td>\n",
       "      <td>...</td>\n",
       "      <td>0</td>\n",
       "      <td>0</td>\n",
       "      <td>0</td>\n",
       "      <td>0</td>\n",
       "      <td>0</td>\n",
       "      <td>0</td>\n",
       "      <td>0</td>\n",
       "      <td>0</td>\n",
       "      <td>0</td>\n",
       "      <td>0</td>\n",
       "    </tr>\n",
       "  </tbody>\n",
       "</table>\n",
       "<p>5 rows × 784 columns</p>\n",
       "</div>"
      ]
     },
     "metadata": {},
     "execution_count": 1
    }
   ],
   "metadata": {}
  },
  {
   "cell_type": "code",
   "execution_count": 2,
   "source": [
    "from sklearn.model_selection import train_test_split\r\n",
    "\r\n",
    "# use part of the data from training and validation\r\n",
    "X_train, X_valid, y_train, y_valid = train_test_split(X, y, stratify=y, train_size=0.75)"
   ],
   "outputs": [],
   "metadata": {}
  },
  {
   "cell_type": "code",
   "execution_count": 3,
   "source": [
    "X_train.shape # (31500, 784)"
   ],
   "outputs": [
    {
     "output_type": "execute_result",
     "data": {
      "text/plain": [
       "(31500, 784)"
      ]
     },
     "metadata": {},
     "execution_count": 3
    }
   ],
   "metadata": {}
  },
  {
   "cell_type": "markdown",
   "source": [
    "duomenis reikia pasidaryti 28x28 nes tai yra nuotrauka"
   ],
   "metadata": {}
  },
  {
   "cell_type": "code",
   "execution_count": 23,
   "source": [
    "from tensorflow.keras.utils import to_categorical\r\n",
    "\r\n",
    "picture_height, picture_width = 28, 28\r\n",
    "number_type_count = 10\r\n",
    "\r\n",
    "def reshape_digits_data(data):\r\n",
    "    number_of_images = data.shape[0]\r\n",
    "    shaped_data = data.values.reshape(number_of_images, picture_height, picture_width, 1) # 1 is grayscale\r\n",
    "    return shaped_data\r\n",
    "\r\n",
    "# to categorical pavercia reiksmes i vektoriu, jis reikalinas categorical_crossentropy.\r\n",
    "def transform_digits_labels(labels):\r\n",
    "    return to_categorical(labels, number_type_count)\r\n"
   ],
   "outputs": [],
   "metadata": {}
  },
  {
   "cell_type": "code",
   "execution_count": 24,
   "source": [
    "import matplotlib.pyplot as plt\r\n",
    "from sklearn.model_selection import train_test_split\r\n",
    "# use part of the data from training and validation\r\n",
    "X_train, X_valid, y_train, y_valid = train_test_split(X, y, stratify=y, train_size=0.75)\r\n",
    "\r\n",
    "#Convert train datset to (num_images, img_rows, img_cols) format \r\n",
    "X_train = reshape_digits_data(X_train)\r\n",
    "y_train = transform_digits_labels(y_train)\r\n",
    "\r\n",
    "X_valid = reshape_digits_data(X_valid)\r\n",
    "y_valid = transform_digits_labels(y_valid)\r\n",
    "\r\n",
    "for i in range(6, 9):\r\n",
    "    plt.subplot(330 + (i+1))\r\n",
    "    plt.imshow(X_train[i], cmap=plt.get_cmap('gray'))\r\n",
    "    plt.title(y_train[i]);"
   ],
   "outputs": [
    {
     "output_type": "stream",
     "name": "stderr",
     "text": [
      "C:\\Users\\laimo\\anaconda3\\envs\\tf\\lib\\site-packages\\matplotlib\\text.py:1223: FutureWarning: elementwise comparison failed; returning scalar instead, but in the future will perform elementwise comparison\n",
      "  if s != self._text:\n"
     ]
    },
    {
     "output_type": "display_data",
     "data": {
      "text/plain": [
       "<Figure size 432x288 with 3 Axes>"
      ],
      "image/png": "[encoded data removed]"
     },
     "metadata": {}
    }
   ],
   "metadata": {}
  },
  {
   "cell_type": "markdown",
   "source": [
    "SOFTMAX padaro kad priskiria artimiausiai reiksmei"
   ],
   "metadata": {}
  },
  {
   "cell_type": "code",
   "execution_count": 31,
   "source": [
    "from tensorflow import keras\r\n",
    "from tensorflow.keras import layers\r\n",
    "\r\n",
    "# input_shape is the shape of the input data\r\n",
    "# 28x28 nuotrauka ir 1 gray scale\r\n",
    "model = keras.Sequential([\r\n",
    "    layers.BatchNormalization(input_shape=(28,28,1)),\r\n",
    "    layers.Flatten(),\r\n",
    "    layers.Dense(32, activation='relu'),\r\n",
    "\r\n",
    "    layers.BatchNormalization(),\r\n",
    "    layers.Flatten(),\r\n",
    "\r\n",
    "    layers.Dense(10, activation='softmax'),\r\n",
    "])"
   ],
   "outputs": [],
   "metadata": {}
  },
  {
   "cell_type": "markdown",
   "source": [
    "variantas be flatten"
   ],
   "metadata": {}
  },
  {
   "cell_type": "code",
   "execution_count": 42,
   "source": [
    "from tensorflow import keras\r\n",
    "from tensorflow.keras import layers\r\n",
    "\r\n",
    "model = keras.Sequential([\r\n",
    "    layers.Input(shape=(28,28,1)),\r\n",
    "    layers.BatchNormalization(),\r\n",
    "    layers.Dense(32, activation='relu'),\r\n",
    "\r\n",
    "    layers.BatchNormalization(),\r\n",
    "    layers.Flatten(),\r\n",
    "    layers.Dense(10, activation='softmax'),\r\n",
    "])"
   ],
   "outputs": [
    {
     "output_type": "stream",
     "name": "stdout",
     "text": [
      "WARNING:tensorflow:Please add `keras.layers.InputLayer` instead of `keras.Input` to Sequential model. `keras.Input` is intended to be used by Functional model.\n"
     ]
    }
   ],
   "metadata": {}
  },
  {
   "cell_type": "code",
   "execution_count": 43,
   "source": [
    "# min_delta is the minimum change in the monitored quantity to qualify as an improvement, which is used for early stopping.\r\n",
    "# patience is the number of epochs with no improvement after which training will be stopped.\r\n",
    "\r\n",
    "early_stopping = keras.callbacks.EarlyStopping(\r\n",
    "    patience=20,\r\n",
    "    min_delta=0.001,\r\n",
    "    restore_best_weights=True,\r\n",
    ")\r\n",
    "\r\n",
    "optimizer = keras.optimizers.Adam(lr=0.001)\r\n",
    "# optimizer is the algorithm used to update the weights of the model.\r\n",
    "# loss is the loss function to be minimized by the model.\r\n",
    "model.compile(\r\n",
    "    optimizer=optimizer,\r\n",
    "    loss='categorical_crossentropy',\r\n",
    "    metrics=['accuracy']\r\n",
    ")\r\n",
    "\r\n",
    "# batch size is the number of samples (rows) that will be processed at a time\r\n",
    "# epochs is the number of times the entire dataset will be processed\r\n",
    "history = model.fit(\r\n",
    "    X_train, y_train,\r\n",
    "    validation_data=(X_valid, y_valid),\r\n",
    "    batch_size=64,\r\n",
    "    epochs=1000,\r\n",
    "    callbacks=[early_stopping],\r\n",
    ")"
   ],
   "outputs": [
    {
     "output_type": "stream",
     "name": "stdout",
     "text": [
      "Epoch 1/1000\n",
      "493/493 [==============================] - 2s 4ms/step - loss: 0.4696 - accuracy: 0.8767 - val_loss: 0.5860 - val_accuracy: 0.9051\n",
      "Epoch 2/1000\n",
      "493/493 [==============================] - 2s 3ms/step - loss: 0.2763 - accuracy: 0.9205 - val_loss: 0.3599 - val_accuracy: 0.8911\n",
      "Epoch 3/1000\n",
      "493/493 [==============================] - 1s 3ms/step - loss: 0.2495 - accuracy: 0.9275 - val_loss: 0.9308 - val_accuracy: 0.6914\n",
      "Epoch 4/1000\n",
      "493/493 [==============================] - 1s 3ms/step - loss: 0.2296 - accuracy: 0.9341 - val_loss: 0.3331 - val_accuracy: 0.9035\n",
      "Epoch 5/1000\n",
      "493/493 [==============================] - 1s 3ms/step - loss: 0.2182 - accuracy: 0.9370 - val_loss: 0.8394 - val_accuracy: 0.7234\n",
      "Epoch 6/1000\n",
      "493/493 [==============================] - 1s 3ms/step - loss: 0.2069 - accuracy: 0.9391 - val_loss: 0.3005 - val_accuracy: 0.9148\n",
      "Epoch 7/1000\n",
      "493/493 [==============================] - 1s 3ms/step - loss: 0.1974 - accuracy: 0.9419 - val_loss: 0.2946 - val_accuracy: 0.9151\n",
      "Epoch 8/1000\n",
      "493/493 [==============================] - 1s 3ms/step - loss: 0.1903 - accuracy: 0.9432 - val_loss: 0.6749 - val_accuracy: 0.8231\n",
      "Epoch 9/1000\n",
      "493/493 [==============================] - 1s 3ms/step - loss: 0.1843 - accuracy: 0.9446 - val_loss: 1.1652 - val_accuracy: 0.6728\n",
      "Epoch 10/1000\n",
      "493/493 [==============================] - 1s 3ms/step - loss: 0.1740 - accuracy: 0.9474 - val_loss: 0.4993 - val_accuracy: 0.8489\n",
      "Epoch 11/1000\n",
      "493/493 [==============================] - 1s 3ms/step - loss: 0.1691 - accuracy: 0.9492 - val_loss: 0.2957 - val_accuracy: 0.9169\n",
      "Epoch 12/1000\n",
      "493/493 [==============================] - 1s 3ms/step - loss: 0.1619 - accuracy: 0.9507 - val_loss: 0.4157 - val_accuracy: 0.8892\n",
      "Epoch 13/1000\n",
      "493/493 [==============================] - 1s 3ms/step - loss: 0.1563 - accuracy: 0.9520 - val_loss: 0.3130 - val_accuracy: 0.9184\n",
      "Epoch 14/1000\n",
      "493/493 [==============================] - 1s 3ms/step - loss: 0.1504 - accuracy: 0.9535 - val_loss: 0.4012 - val_accuracy: 0.8990\n",
      "Epoch 15/1000\n",
      "493/493 [==============================] - 1s 3ms/step - loss: 0.1446 - accuracy: 0.9551 - val_loss: 0.3544 - val_accuracy: 0.9123\n",
      "Epoch 16/1000\n",
      "493/493 [==============================] - 1s 3ms/step - loss: 0.1437 - accuracy: 0.9558 - val_loss: 3.1732 - val_accuracy: 0.4875\n",
      "Epoch 17/1000\n",
      "493/493 [==============================] - 1s 3ms/step - loss: 0.1371 - accuracy: 0.9581 - val_loss: 0.3285 - val_accuracy: 0.9152\n",
      "Epoch 18/1000\n",
      "493/493 [==============================] - 1s 3ms/step - loss: 0.1343 - accuracy: 0.9588 - val_loss: 0.5093 - val_accuracy: 0.8632\n",
      "Epoch 19/1000\n",
      "493/493 [==============================] - 1s 3ms/step - loss: 0.1281 - accuracy: 0.9589 - val_loss: 0.3347 - val_accuracy: 0.9187\n",
      "Epoch 20/1000\n",
      "493/493 [==============================] - 1s 3ms/step - loss: 0.1228 - accuracy: 0.9613 - val_loss: 0.4518 - val_accuracy: 0.8805\n",
      "Epoch 21/1000\n",
      "493/493 [==============================] - 1s 3ms/step - loss: 0.1190 - accuracy: 0.9629 - val_loss: 0.3457 - val_accuracy: 0.9179\n",
      "Epoch 22/1000\n",
      "493/493 [==============================] - 1s 3ms/step - loss: 0.1166 - accuracy: 0.9625 - val_loss: 0.5272 - val_accuracy: 0.8772\n",
      "Epoch 23/1000\n",
      "493/493 [==============================] - 1s 3ms/step - loss: 0.1157 - accuracy: 0.9636 - val_loss: 0.3553 - val_accuracy: 0.9194\n",
      "Epoch 24/1000\n",
      "493/493 [==============================] - 1s 3ms/step - loss: 0.1086 - accuracy: 0.9657 - val_loss: 0.4057 - val_accuracy: 0.9105\n",
      "Epoch 25/1000\n",
      "493/493 [==============================] - 1s 3ms/step - loss: 0.1043 - accuracy: 0.9660 - val_loss: 0.4999 - val_accuracy: 0.8836\n",
      "Epoch 26/1000\n",
      "493/493 [==============================] - 1s 3ms/step - loss: 0.1059 - accuracy: 0.9654 - val_loss: 0.4252 - val_accuracy: 0.9069\n",
      "Epoch 27/1000\n",
      "493/493 [==============================] - 1s 3ms/step - loss: 0.0982 - accuracy: 0.9673 - val_loss: 0.4354 - val_accuracy: 0.9072\n"
     ]
    }
   ],
   "metadata": {}
  },
  {
   "cell_type": "code",
   "execution_count": 44,
   "source": [
    "import matplotlib.pyplot as plt\r\n",
    "plt.style.use('seaborn-whitegrid')\r\n",
    "# Set Matplotlib defaults\r\n",
    "plt.rc('figure', autolayout=True)\r\n",
    "plt.rc('axes', labelweight='bold', labelsize='large',\r\n",
    "       titleweight='bold', titlesize=18, titlepad=10)\r\n",
    "plt.rc('animation', html='html5')\r\n",
    "\r\n",
    "history_df = pd.DataFrame(history.history)\r\n",
    "history_df.loc[:, ['loss', 'val_loss']].plot()\r\n",
    "print(\"Minimum Validation Loss: {:0.4f}\".format(history_df['val_loss'].min()))"
   ],
   "outputs": [
    {
     "output_type": "stream",
     "name": "stdout",
     "text": [
      "Minimum Validation Loss: 0.2946\n"
     ]
    },
    {
     "output_type": "display_data",
     "data": {
      "text/plain": [
       "<Figure size 432x288 with 1 Axes>"
      ],
      "image/png": "[encoded data removed]"
     },
     "metadata": {}
    }
   ],
   "metadata": {}
  },
  {
   "cell_type": "markdown",
   "source": [
    "butinai reikia predict_classes"
   ],
   "metadata": {}
  },
  {
   "cell_type": "code",
   "execution_count": 21,
   "source": [
    "digits_training_data = pd.read_csv('./test.csv')\r\n",
    "test_X = reshape_digits_data(digits_training_data.copy())\r\n",
    "\r\n",
    "prediction = model.predict_classes(test_X)\r\n",
    "\r\n",
    "submissions=pd.DataFrame({\"ImageId\": list(range(1,len(prediction)+1)),\r\n",
    "                         \"Label\": prediction})\r\n",
    "submissions.to_csv(\"DR2.csv\", index=False, header=True)"
   ],
   "outputs": [
    {
     "output_type": "stream",
     "name": "stderr",
     "text": [
      "C:\\Users\\laimo\\anaconda3\\envs\\tf\\lib\\site-packages\\tensorflow\\python\\keras\\engine\\sequential.py:455: UserWarning: `model.predict_classes()` is deprecated and will be removed after 2021-01-01. Please use instead:* `np.argmax(model.predict(x), axis=-1)`,   if your model does multi-class classification   (e.g. if it uses a `softmax` last-layer activation).* `(model.predict(x) > 0.5).astype(\"int32\")`,   if your model does binary classification   (e.g. if it uses a `sigmoid` last-layer activation).\n",
      "  warnings.warn('`model.predict_classes()` is deprecated and '\n"
     ]
    },
    {
     "output_type": "stream",
     "name": "stdout",
     "text": [
      "[2 0 9 ... 3 9 2]\n"
     ]
    }
   ],
   "metadata": {}
  },
  {
   "cell_type": "markdown",
   "source": [
    "PREDICTION SCORE 0.95878"
   ],
   "metadata": {}
  }
 ],
 "metadata": {
  "orig_nbformat": 4,
  "language_info": {
   "name": "python",
   "version": "3.9.7",
   "mimetype": "text/x-python",
   "codemirror_mode": {
    "name": "ipython",
    "version": 3
   },
   "pygments_lexer": "ipython3",
   "nbconvert_exporter": "python",
   "file_extension": ".py"
  },
  "kernelspec": {
   "name": "python3",
   "display_name": "Python 3.9.7 64-bit ('tf': conda)"
  },
  "interpreter": {
   "hash": "f25a34d828536eaea94bc98fa02bf2fcbf5af5b65bea44899cc5ad2220dc98c9"
  }
 },
 "nbformat": 4,
 "nbformat_minor": 2
}