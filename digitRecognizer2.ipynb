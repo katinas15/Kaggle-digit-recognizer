{
 "cells": [
  {
   "cell_type": "code",
   "execution_count": 1,
   "source": [
    "import pandas as pd\r\n",
    "\r\n",
    "digits_training_data = pd.read_csv('./train.csv')\r\n",
    "\r\n",
    "# X is all the features I will be training the dataset on \r\n",
    "X = digits_training_data.copy()\r\n",
    "# y is the prediction target\r\n",
    "# pop label from the X and at the same time set the target\r\n",
    "y = X.pop('label')\r\n",
    "\r\n",
    "X.head()\r\n",
    "# y.head()"
   ],
   "outputs": [
    {
     "output_type": "execute_result",
     "data": {
      "text/plain": [
       "   pixel0  pixel1  pixel2  pixel3  pixel4  pixel5  pixel6  pixel7  pixel8  \\\n",
       "0       0       0       0       0       0       0       0       0       0   \n",
       "1       0       0       0       0       0       0       0       0       0   \n",
       "2       0       0       0       0       0       0       0       0       0   \n",
       "3       0       0       0       0       0       0       0       0       0   \n",
       "4       0       0       0       0       0       0       0       0       0   \n",
       "\n",
       "   pixel9  ...  pixel774  pixel775  pixel776  pixel777  pixel778  pixel779  \\\n",
       "0       0  ...         0         0         0         0         0         0   \n",
       "1       0  ...         0         0         0         0         0         0   \n",
       "2       0  ...         0         0         0         0         0         0   \n",
       "3       0  ...         0         0         0         0         0         0   \n",
       "4       0  ...         0         0         0         0         0         0   \n",
       "\n",
       "   pixel780  pixel781  pixel782  pixel783  \n",
       "0         0         0         0         0  \n",
       "1         0         0         0         0  \n",
       "2         0         0         0         0  \n",
       "3         0         0         0         0  \n",
       "4         0         0         0         0  \n",
       "\n",
       "[5 rows x 784 columns]"
      ],
      "text/html": [
       "<div>\n",
       "<style scoped>\n",
       "    .dataframe tbody tr th:only-of-type {\n",
       "        vertical-align: middle;\n",
       "    }\n",
       "\n",
       "    .dataframe tbody tr th {\n",
       "        vertical-align: top;\n",
       "    }\n",
       "\n",
       "    .dataframe thead th {\n",
       "        text-align: right;\n",
       "    }\n",
       "</style>\n",
       "<table border=\"1\" class=\"dataframe\">\n",
       "  <thead>\n",
       "    <tr style=\"text-align: right;\">\n",
       "      <th></th>\n",
       "      <th>pixel0</th>\n",
       "      <th>pixel1</th>\n",
       "      <th>pixel2</th>\n",
       "      <th>pixel3</th>\n",
       "      <th>pixel4</th>\n",
       "      <th>pixel5</th>\n",
       "      <th>pixel6</th>\n",
       "      <th>pixel7</th>\n",
       "      <th>pixel8</th>\n",
       "      <th>pixel9</th>\n",
       "      <th>...</th>\n",
       "      <th>pixel774</th>\n",
       "      <th>pixel775</th>\n",
       "      <th>pixel776</th>\n",
       "      <th>pixel777</th>\n",
       "      <th>pixel778</th>\n",
       "      <th>pixel779</th>\n",
       "      <th>pixel780</th>\n",
       "      <th>pixel781</th>\n",
       "      <th>pixel782</th>\n",
       "      <th>pixel783</th>\n",
       "    </tr>\n",
       "  </thead>\n",
       "  <tbody>\n",
       "    <tr>\n",
       "      <th>0</th>\n",
       "      <td>0</td>\n",
       "      <td>0</td>\n",
       "      <td>0</td>\n",
       "      <td>0</td>\n",
       "      <td>0</td>\n",
       "      <td>0</td>\n",
       "      <td>0</td>\n",
       "      <td>0</td>\n",
       "      <td>0</td>\n",
       "      <td>0</td>\n",
       "      <td>...</td>\n",
       "      <td>0</td>\n",
       "      <td>0</td>\n",
       "      <td>0</td>\n",
       "      <td>0</td>\n",
       "      <td>0</td>\n",
       "      <td>0</td>\n",
       "      <td>0</td>\n",
       "      <td>0</td>\n",
       "      <td>0</td>\n",
       "      <td>0</td>\n",
       "    </tr>\n",
       "    <tr>\n",
       "      <th>1</th>\n",
       "      <td>0</td>\n",
       "      <td>0</td>\n",
       "      <td>0</td>\n",
       "      <td>0</td>\n",
       "      <td>0</td>\n",
       "      <td>0</td>\n",
       "      <td>0</td>\n",
       "      <td>0</td>\n",
       "      <td>0</td>\n",
       "      <td>0</td>\n",
       "      <td>...</td>\n",
       "      <td>0</td>\n",
       "      <td>0</td>\n",
       "      <td>0</td>\n",
       "      <td>0</td>\n",
       "      <td>0</td>\n",
       "      <td>0</td>\n",
       "      <td>0</td>\n",
       "      <td>0</td>\n",
       "      <td>0</td>\n",
       "      <td>0</td>\n",
       "    </tr>\n",
       "    <tr>\n",
       "      <th>2</th>\n",
       "      <td>0</td>\n",
       "      <td>0</td>\n",
       "      <td>0</td>\n",
       "      <td>0</td>\n",
       "      <td>0</td>\n",
       "      <td>0</td>\n",
       "      <td>0</td>\n",
       "      <td>0</td>\n",
       "      <td>0</td>\n",
       "      <td>0</td>\n",
       "      <td>...</td>\n",
       "      <td>0</td>\n",
       "      <td>0</td>\n",
       "      <td>0</td>\n",
       "      <td>0</td>\n",
       "      <td>0</td>\n",
       "      <td>0</td>\n",
       "      <td>0</td>\n",
       "      <td>0</td>\n",
       "      <td>0</td>\n",
       "      <td>0</td>\n",
       "    </tr>\n",
       "    <tr>\n",
       "      <th>3</th>\n",
       "      <td>0</td>\n",
       "      <td>0</td>\n",
       "      <td>0</td>\n",
       "      <td>0</td>\n",
       "      <td>0</td>\n",
       "      <td>0</td>\n",
       "      <td>0</td>\n",
       "      <td>0</td>\n",
       "      <td>0</td>\n",
       "      <td>0</td>\n",
       "      <td>...</td>\n",
       "      <td>0</td>\n",
       "      <td>0</td>\n",
       "      <td>0</td>\n",
       "      <td>0</td>\n",
       "      <td>0</td>\n",
       "      <td>0</td>\n",
       "      <td>0</td>\n",
       "      <td>0</td>\n",
       "      <td>0</td>\n",
       "      <td>0</td>\n",
       "    </tr>\n",
       "    <tr>\n",
       "      <th>4</th>\n",
       "      <td>0</td>\n",
       "      <td>0</td>\n",
       "      <td>0</td>\n",
       "      <td>0</td>\n",
       "      <td>0</td>\n",
       "      <td>0</td>\n",
       "      <td>0</td>\n",
       "      <td>0</td>\n",
       "      <td>0</td>\n",
       "      <td>0</td>\n",
       "      <td>...</td>\n",
       "      <td>0</td>\n",
       "      <td>0</td>\n",
       "      <td>0</td>\n",
       "      <td>0</td>\n",
       "      <td>0</td>\n",
       "      <td>0</td>\n",
       "      <td>0</td>\n",
       "      <td>0</td>\n",
       "      <td>0</td>\n",
       "      <td>0</td>\n",
       "    </tr>\n",
       "  </tbody>\n",
       "</table>\n",
       "<p>5 rows × 784 columns</p>\n",
       "</div>"
      ]
     },
     "metadata": {},
     "execution_count": 1
    }
   ],
   "metadata": {}
  },
  {
   "cell_type": "code",
   "execution_count": 2,
   "source": [
    "from sklearn.model_selection import train_test_split\r\n",
    "\r\n",
    "# use part of the data from training and validation\r\n",
    "X_train, X_valid, y_train, y_valid = train_test_split(X, y, stratify=y, train_size=0.75)"
   ],
   "outputs": [],
   "metadata": {}
  },
  {
   "cell_type": "code",
   "execution_count": 3,
   "source": [
    "X_train.shape # (31500, 784)"
   ],
   "outputs": [
    {
     "output_type": "execute_result",
     "data": {
      "text/plain": [
       "(31500, 784)"
      ]
     },
     "metadata": {},
     "execution_count": 3
    }
   ],
   "metadata": {}
  },
  {
   "cell_type": "markdown",
   "source": [
    "duomenis reikia pasidaryti 28x28 nes tai yra nuotrauka"
   ],
   "metadata": {}
  },
  {
   "cell_type": "code",
   "execution_count": 23,
   "source": [
    "from tensorflow.keras.utils import to_categorical\r\n",
    "\r\n",
    "picture_height, picture_width = 28, 28\r\n",
    "number_type_count = 10\r\n",
    "\r\n",
    "def reshape_digits_data(data):\r\n",
    "    number_of_images = data.shape[0]\r\n",
    "    shaped_data = data.values.reshape(number_of_images, picture_height, picture_width, 1) # 1 is grayscale\r\n",
    "    return shaped_data\r\n",
    "\r\n",
    "# to categorical pavercia reiksmes i vektoriu, jis reikalinas categorical_crossentropy.\r\n",
    "def transform_digits_labels(labels):\r\n",
    "    return to_categorical(labels, number_type_count)\r\n"
   ],
   "outputs": [],
   "metadata": {}
  },
  {
   "cell_type": "code",
   "execution_count": 24,
   "source": [
    "import matplotlib.pyplot as plt\r\n",
    "from sklearn.model_selection import train_test_split\r\n",
    "# use part of the data from training and validation\r\n",
    "X_train, X_valid, y_train, y_valid = train_test_split(X, y, stratify=y, train_size=0.75)\r\n",
    "\r\n",
    "#Convert train datset to (num_images, img_rows, img_cols) format \r\n",
    "X_train = reshape_digits_data(X_train)\r\n",
    "y_train = transform_digits_labels(y_train)\r\n",
    "\r\n",
    "X_valid = reshape_digits_data(X_valid)\r\n",
    "y_valid = transform_digits_labels(y_valid)\r\n",
    "\r\n",
    "for i in range(6, 9):\r\n",
    "    plt.subplot(330 + (i+1))\r\n",
    "    plt.imshow(X_train[i], cmap=plt.get_cmap('gray'))\r\n",
    "    plt.title(y_train[i]);"
   ],
   "outputs": [
    {
     "output_type": "stream",
     "name": "stderr",
     "text": [
      "C:\\Users\\laimo\\anaconda3\\envs\\tf\\lib\\site-packages\\matplotlib\\text.py:1223: FutureWarning: elementwise comparison failed; returning scalar instead, but in the future will perform elementwise comparison\n",
      "  if s != self._text:\n"
     ]
    },
    {
     "output_type": "display_data",
     "data": {
      "text/plain": [
       "<Figure size 432x288 with 3 Axes>"
      ],
      "image/png": "[encoded data removed]"
     },
     "metadata": {}
    }
   ],
   "metadata": {}
  },
  {
   "cell_type": "markdown",
   "source": [
    "SOFTMAX padaro kad priskiria artimiausiai reiksmei"
   ],
   "metadata": {}
  },
  {
   "cell_type": "code",
   "execution_count": 30,
   "source": [
    "from tensorflow import keras\r\n",
    "from tensorflow.keras import layers\r\n",
    "\r\n",
    "# input_shape is the shape of the input data\r\n",
    "# 28x28 nuotrauka ir 1 gray scale\r\n",
    "model = keras.Sequential([\r\n",
    "    layers.BatchNormalization(input_shape=(28,28,1)),\r\n",
    "    layers.Flatten(),\r\n",
    "    layers.Dense(32, activation='relu'),\r\n",
    "\r\n",
    "    layers.BatchNormalization(),\r\n",
    "    layers.Flatten(),\r\n",
    "\r\n",
    "    layers.Dense(10, activation='softmax'),\r\n",
    "])"
   ],
   "outputs": [],
   "metadata": {}
  },
  {
   "cell_type": "code",
   "execution_count": 29,
   "source": [
    "# min_delta is the minimum change in the monitored quantity to qualify as an improvement, which is used for early stopping.\r\n",
    "# patience is the number of epochs with no improvement after which training will be stopped.\r\n",
    "\r\n",
    "early_stopping = keras.callbacks.EarlyStopping(\r\n",
    "    patience=20,\r\n",
    "    min_delta=0.001,\r\n",
    "    restore_best_weights=True,\r\n",
    ")\r\n",
    "\r\n",
    "optimizer = keras.optimizers.Adam(lr=0.001)\r\n",
    "# optimizer is the algorithm used to update the weights of the model.\r\n",
    "# loss is the loss function to be minimized by the model.\r\n",
    "model.compile(\r\n",
    "    optimizer=optimizer,\r\n",
    "    loss='categorical_crossentropy',\r\n",
    "    metrics=['accuracy']\r\n",
    ")\r\n",
    "\r\n",
    "# batch size is the number of samples (rows) that will be processed at a time\r\n",
    "# epochs is the number of times the entire dataset will be processed\r\n",
    "history = model.fit(\r\n",
    "    X_train, y_train,\r\n",
    "    validation_data=(X_valid, y_valid),\r\n",
    "    batch_size=64,\r\n",
    "    epochs=1000,\r\n",
    "    callbacks=[early_stopping],\r\n",
    ")"
   ],
   "outputs": [
    {
     "output_type": "stream",
     "name": "stdout",
     "text": [
      "Epoch 1/1000\n",
      "493/493 [==============================] - 2s 4ms/step - loss: 0.2992 - accuracy: 0.9112 - val_loss: 0.1851 - val_accuracy: 0.9437\n",
      "Epoch 2/1000\n",
      "493/493 [==============================] - 2s 3ms/step - loss: 0.1354 - accuracy: 0.9619 - val_loss: 0.1420 - val_accuracy: 0.9562\n",
      "Epoch 3/1000\n",
      "493/493 [==============================] - 2s 3ms/step - loss: 0.0897 - accuracy: 0.9731 - val_loss: 0.1171 - val_accuracy: 0.9633\n",
      "Epoch 4/1000\n",
      "493/493 [==============================] - 1s 3ms/step - loss: 0.0692 - accuracy: 0.9796 - val_loss: 0.1168 - val_accuracy: 0.9633\n",
      "Epoch 5/1000\n",
      "493/493 [==============================] - 1s 3ms/step - loss: 0.0525 - accuracy: 0.9849 - val_loss: 0.1120 - val_accuracy: 0.9655\n",
      "Epoch 6/1000\n",
      "493/493 [==============================] - 2s 3ms/step - loss: 0.0431 - accuracy: 0.9876 - val_loss: 0.1122 - val_accuracy: 0.9670\n",
      "Epoch 7/1000\n",
      "493/493 [==============================] - 1s 3ms/step - loss: 0.0343 - accuracy: 0.9904 - val_loss: 0.1134 - val_accuracy: 0.9686\n",
      "Epoch 8/1000\n",
      "493/493 [==============================] - 2s 3ms/step - loss: 0.0309 - accuracy: 0.9911 - val_loss: 0.1121 - val_accuracy: 0.9684\n",
      "Epoch 9/1000\n",
      "493/493 [==============================] - 2s 3ms/step - loss: 0.0264 - accuracy: 0.9924 - val_loss: 0.1069 - val_accuracy: 0.9684\n",
      "Epoch 10/1000\n",
      "493/493 [==============================] - 1s 3ms/step - loss: 0.0229 - accuracy: 0.9933 - val_loss: 0.1248 - val_accuracy: 0.9647\n",
      "Epoch 11/1000\n",
      "493/493 [==============================] - 1s 3ms/step - loss: 0.0220 - accuracy: 0.9935 - val_loss: 0.1114 - val_accuracy: 0.9690\n",
      "Epoch 12/1000\n",
      "493/493 [==============================] - 2s 3ms/step - loss: 0.0168 - accuracy: 0.9950 - val_loss: 0.1138 - val_accuracy: 0.9710\n",
      "Epoch 13/1000\n",
      "493/493 [==============================] - 2s 3ms/step - loss: 0.0157 - accuracy: 0.9952 - val_loss: 0.1305 - val_accuracy: 0.9655\n",
      "Epoch 14/1000\n",
      "493/493 [==============================] - 2s 3ms/step - loss: 0.0169 - accuracy: 0.9950 - val_loss: 0.1294 - val_accuracy: 0.9675\n",
      "Epoch 15/1000\n",
      "493/493 [==============================] - 2s 3ms/step - loss: 0.0135 - accuracy: 0.9961 - val_loss: 0.1235 - val_accuracy: 0.9678\n",
      "Epoch 16/1000\n",
      "493/493 [==============================] - 1s 3ms/step - loss: 0.0146 - accuracy: 0.9957 - val_loss: 0.1240 - val_accuracy: 0.9710\n",
      "Epoch 17/1000\n",
      "493/493 [==============================] - 1s 3ms/step - loss: 0.0150 - accuracy: 0.9953 - val_loss: 0.1237 - val_accuracy: 0.9699\n",
      "Epoch 18/1000\n",
      "493/493 [==============================] - 1s 3ms/step - loss: 0.0129 - accuracy: 0.9963 - val_loss: 0.1466 - val_accuracy: 0.9658\n",
      "Epoch 19/1000\n",
      "493/493 [==============================] - 2s 3ms/step - loss: 0.0088 - accuracy: 0.9976 - val_loss: 0.1093 - val_accuracy: 0.9727\n",
      "Epoch 20/1000\n",
      "493/493 [==============================] - 2s 3ms/step - loss: 0.0131 - accuracy: 0.9956 - val_loss: 0.1219 - val_accuracy: 0.9705\n",
      "Epoch 21/1000\n",
      "493/493 [==============================] - 2s 3ms/step - loss: 0.0124 - accuracy: 0.9965 - val_loss: 0.1155 - val_accuracy: 0.9725\n",
      "Epoch 22/1000\n",
      "493/493 [==============================] - 2s 3ms/step - loss: 0.0070 - accuracy: 0.9982 - val_loss: 0.1187 - val_accuracy: 0.9716\n",
      "Epoch 23/1000\n",
      "493/493 [==============================] - 2s 3ms/step - loss: 0.0069 - accuracy: 0.9978 - val_loss: 0.1317 - val_accuracy: 0.9709\n",
      "Epoch 24/1000\n",
      "493/493 [==============================] - 2s 3ms/step - loss: 0.0090 - accuracy: 0.9973 - val_loss: 0.1322 - val_accuracy: 0.9696\n",
      "Epoch 25/1000\n",
      "493/493 [==============================] - 1s 3ms/step - loss: 0.0087 - accuracy: 0.9975 - val_loss: 0.1434 - val_accuracy: 0.9676\n",
      "Epoch 26/1000\n",
      "493/493 [==============================] - 1s 3ms/step - loss: 0.0082 - accuracy: 0.9977 - val_loss: 0.1271 - val_accuracy: 0.9710\n",
      "Epoch 27/1000\n",
      "493/493 [==============================] - 1s 3ms/step - loss: 0.0059 - accuracy: 0.9982 - val_loss: 0.1216 - val_accuracy: 0.9722\n",
      "Epoch 28/1000\n",
      "493/493 [==============================] - 1s 3ms/step - loss: 0.0102 - accuracy: 0.9964 - val_loss: 0.1201 - val_accuracy: 0.9744\n",
      "Epoch 29/1000\n",
      "493/493 [==============================] - 1s 3ms/step - loss: 0.0065 - accuracy: 0.9980 - val_loss: 0.1170 - val_accuracy: 0.9736\n"
     ]
    }
   ],
   "metadata": {}
  },
  {
   "cell_type": "code",
   "execution_count": 15,
   "source": [
    "import matplotlib.pyplot as plt\r\n",
    "plt.style.use('seaborn-whitegrid')\r\n",
    "# Set Matplotlib defaults\r\n",
    "plt.rc('figure', autolayout=True)\r\n",
    "plt.rc('axes', labelweight='bold', labelsize='large',\r\n",
    "       titleweight='bold', titlesize=18, titlepad=10)\r\n",
    "plt.rc('animation', html='html5')\r\n",
    "\r\n",
    "history_df = pd.DataFrame(history.history)\r\n",
    "history_df.loc[:, ['loss', 'val_loss']].plot()\r\n",
    "print(\"Minimum Validation Loss: {:0.4f}\".format(history_df['val_loss'].min()))"
   ],
   "outputs": [
    {
     "output_type": "stream",
     "name": "stdout",
     "text": [
      "Minimum Validation Loss: 0.1323\n"
     ]
    },
    {
     "output_type": "display_data",
     "data": {
      "text/plain": [
       "<Figure size 432x288 with 1 Axes>"
      ],
      "image/png": "[encoded data removed]"
     },
     "metadata": {}
    }
   ],
   "metadata": {}
  },
  {
   "cell_type": "markdown",
   "source": [
    "butinai reikia predict_classes"
   ],
   "metadata": {}
  },
  {
   "cell_type": "code",
   "execution_count": 21,
   "source": [
    "digits_training_data = pd.read_csv('./test.csv')\r\n",
    "test_X = reshape_digits_data(digits_training_data.copy())\r\n",
    "\r\n",
    "prediction = model.predict_classes(test_X)\r\n",
    "\r\n",
    "submissions=pd.DataFrame({\"ImageId\": list(range(1,len(prediction)+1)),\r\n",
    "                         \"Label\": prediction})\r\n",
    "submissions.to_csv(\"DR2.csv\", index=False, header=True)"
   ],
   "outputs": [
    {
     "output_type": "stream",
     "name": "stderr",
     "text": [
      "C:\\Users\\laimo\\anaconda3\\envs\\tf\\lib\\site-packages\\tensorflow\\python\\keras\\engine\\sequential.py:455: UserWarning: `model.predict_classes()` is deprecated and will be removed after 2021-01-01. Please use instead:* `np.argmax(model.predict(x), axis=-1)`,   if your model does multi-class classification   (e.g. if it uses a `softmax` last-layer activation).* `(model.predict(x) > 0.5).astype(\"int32\")`,   if your model does binary classification   (e.g. if it uses a `sigmoid` last-layer activation).\n",
      "  warnings.warn('`model.predict_classes()` is deprecated and '\n"
     ]
    },
    {
     "output_type": "stream",
     "name": "stdout",
     "text": [
      "[2 0 9 ... 3 9 2]\n"
     ]
    }
   ],
   "metadata": {}
  },
  {
   "cell_type": "markdown",
   "source": [
    "PREDICTION SCORE 0.95878"
   ],
   "metadata": {}
  }
 ],
 "metadata": {
  "orig_nbformat": 4,
  "language_info": {
   "name": "python",
   "version": "3.9.7",
   "mimetype": "text/x-python",
   "codemirror_mode": {
    "name": "ipython",
    "version": 3
   },
   "pygments_lexer": "ipython3",
   "nbconvert_exporter": "python",
   "file_extension": ".py"
  },
  "kernelspec": {
   "name": "python3",
   "display_name": "Python 3.9.7 64-bit ('tf': conda)"
  },
  "interpreter": {
   "hash": "f25a34d828536eaea94bc98fa02bf2fcbf5af5b65bea44899cc5ad2220dc98c9"
  }
 },
 "nbformat": 4,
 "nbformat_minor": 2
}