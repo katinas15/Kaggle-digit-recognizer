{
 "cells": [
  {
   "cell_type": "code",
   "execution_count": 1,
   "source": [
    "import tensorflow as tf\r\n",
    "print(\"Num CPUs Available: \", len(tf.config.list_physical_devices('CPU')))\r\n",
    "print(\"Num GPUs Available: \", len(tf.config.list_physical_devices('GPU')))"
   ],
   "outputs": [
    {
     "output_type": "stream",
     "name": "stdout",
     "text": [
      "Num CPUs Available:  1\n",
      "Num GPUs Available:  1\n"
     ]
    }
   ],
   "metadata": {}
  },
  {
   "cell_type": "code",
   "execution_count": null,
   "source": [
    "load the data"
   ],
   "outputs": [],
   "metadata": {}
  },
  {
   "cell_type": "code",
   "execution_count": 17,
   "source": [
    "import pandas as pd\r\n",
    "\r\n",
    "digits_training_data = pd.read_csv('./train.csv')\r\n",
    "\r\n",
    "# X is all the features I will be training the dataset on \r\n",
    "X = digits_training_data.copy()\r\n",
    "# y is the prediction target\r\n",
    "# pop label from the X and at the same time set the target\r\n",
    "y = X.pop('label')\r\n",
    "\r\n",
    "# X.head()\r\n",
    "# y.head()"
   ],
   "outputs": [],
   "metadata": {}
  },
  {
   "cell_type": "code",
   "execution_count": 24,
   "source": [
    "from sklearn.model_selection import train_test_split\r\n",
    "\r\n",
    "# use part of the data from training and validation\r\n",
    "X_train, X_valid, y_train, y_valid = train_test_split(X, y, stratify=y, train_size=0.75)"
   ],
   "outputs": [],
   "metadata": {}
  },
  {
   "cell_type": "code",
   "execution_count": 30,
   "source": [
    "X_train = (digits_training_data.iloc[:,1:].values).astype('float32') # all pixel values\r\n",
    "y_train = digits_training_data.iloc[:,0].values.astype('int32') # only labels i.e targets digits\r\n",
    "\r\n",
    "test= pd.read_csv(\"./test.csv\")\r\n",
    "X_test = test.values.astype('float32')"
   ],
   "outputs": [],
   "metadata": {}
  },
  {
   "cell_type": "code",
   "execution_count": 32,
   "source": [
    "X_train = X_train.reshape(X_train.shape[0], 28, 28,1)\r\n",
    "X_train.shape\r\n",
    "\r\n",
    "\r\n",
    "X_test = X_test.reshape(X_test.shape[0], 28, 28,1)\r\n",
    "X_test.shape"
   ],
   "outputs": [
    {
     "output_type": "execute_result",
     "data": {
      "text/plain": [
       "(28000, 28, 28, 1)"
      ]
     },
     "metadata": {},
     "execution_count": 32
    }
   ],
   "metadata": {}
  },
  {
   "cell_type": "code",
   "execution_count": 35,
   "source": [
    "from tensorflow import keras\r\n",
    "from tensorflow.keras import layers\r\n",
    "\r\n",
    "# input_shape is the shape of the input data\r\n",
    "model = keras.Sequential([\r\n",
    "    layers.BatchNormalization(input_shape=(28,28,1)),\r\n",
    "\r\n",
    "    layers.Dense(32, activation='relu'),\r\n",
    "    layers.BatchNormalization(),\r\n",
    "\r\n",
    "    layers.Dense(32, activation='relu'),\r\n",
    "    layers.BatchNormalization(),\r\n",
    "    layers.Dropout(0.3),  \r\n",
    "\r\n",
    "    layers.Dense(32, activation='relu'),\r\n",
    "    layers.BatchNormalization(),\r\n",
    "\r\n",
    "    layers.Dense(10, activation='softmax'),\r\n",
    "])"
   ],
   "outputs": [],
   "metadata": {}
  },
  {
   "cell_type": "code",
   "execution_count": 47,
   "source": [
    "import numpy as np # linear algebra\r\n",
    "\r\n",
    "mean_px = X_train.mean().astype(np.float32)\r\n",
    "std_px = X_train.std().astype(np.float32)\r\n",
    "\r\n",
    "def standardize(x): \r\n",
    "    return (x-mean_px)/std_px\r\n",
    "\r\n",
    "model= keras.Sequential()\r\n",
    "model.add(keras.layers.Lambda(standardize,input_shape=(28,28,1)))\r\n",
    "model.add(keras.layers.Flatten())\r\n",
    "model.add(keras.layers.Dense(10, activation='softmax'))"
   ],
   "outputs": [],
   "metadata": {}
  },
  {
   "cell_type": "code",
   "execution_count": 49,
   "source": [
    "# min_delta is the minimum change in the monitored quantity to qualify as an improvement, which is used for early stopping.\r\n",
    "# patience is the number of epochs with no improvement after which training will be stopped.\r\n",
    "\r\n",
    "early_stopping = keras.callbacks.EarlyStopping(\r\n",
    "    patience=20,\r\n",
    "    min_delta=0.001,\r\n",
    "    restore_best_weights=True,\r\n",
    ")\r\n",
    "\r\n",
    "optimizer = keras.optimizers.Adam(lr=0.001)\r\n",
    "# optimizer is the algorithm used to update the weights of the model.\r\n",
    "# loss is the loss function to be minimized by the model.\r\n",
    "model.compile(\r\n",
    "    optimizer=optimizer,\r\n",
    "    loss='categorical_crossentropy',\r\n",
    "    metrics=['accuracy']\r\n",
    ")\r\n",
    "\r\n",
    "# batch size is the number of samples (rows) that will be processed at a time\r\n",
    "# epochs is the number of times the entire dataset will be processed\r\n",
    "history = model.fit(\r\n",
    "    X_train, y_train,\r\n",
    "    validation_data=(X_valid, y_valid),\r\n",
    "    batch_size=128,\r\n",
    "    epochs=1000,\r\n",
    "    callbacks=[early_stopping],\r\n",
    ")\r\n",
    "\r\n",
    "import matplotlib.pyplot as plt\r\n",
    "plt.style.use('seaborn-whitegrid')\r\n",
    "# Set Matplotlib defaults\r\n",
    "plt.rc('figure', autolayout=True)\r\n",
    "plt.rc('axes', labelweight='bold', labelsize='large',\r\n",
    "       titleweight='bold', titlesize=18, titlepad=10)\r\n",
    "plt.rc('animation', html='html5')\r\n",
    "\r\n",
    "history_df = pd.DataFrame(history.history)\r\n",
    "history_df.loc[:, ['loss', 'val_loss']].plot()\r\n",
    "print(\"Minimum Validation Loss: {:0.4f}\".format(history_df['val_loss'].min()))"
   ],
   "outputs": [
    {
     "output_type": "stream",
     "name": "stdout",
     "text": [
      "Epoch 1/1000\n",
      "319/329 [============================>.] - ETA: 0s - loss: 27.3328 - accuracy: 0.0968WARNING:tensorflow:Model was constructed with shape (None, 28, 28, 1) for input KerasTensor(type_spec=TensorSpec(shape=(None, 28, 28, 1), dtype=tf.float32, name='lambda_1_input'), name='lambda_1_input', description=\"created by layer 'lambda_1_input'\"), but it was called on an input with incompatible shape (None, 784).\n",
      "329/329 [==============================] - 1s 3ms/step - loss: 27.3208 - accuracy: 0.0970 - val_loss: 27.3198 - val_accuracy: 0.1007\n",
      "Epoch 2/1000\n",
      "329/329 [==============================] - 1s 2ms/step - loss: 27.3194 - accuracy: 0.0983 - val_loss: 27.3195 - val_accuracy: 0.1057\n",
      "Epoch 3/1000\n",
      "329/329 [==============================] - 1s 2ms/step - loss: 27.3192 - accuracy: 0.0987 - val_loss: 27.3194 - val_accuracy: 0.0912\n",
      "Epoch 4/1000\n",
      "329/329 [==============================] - 1s 2ms/step - loss: 27.3192 - accuracy: 0.1012 - val_loss: 27.3194 - val_accuracy: 0.1109\n",
      "Epoch 5/1000\n",
      "329/329 [==============================] - 1s 2ms/step - loss: 27.3192 - accuracy: 0.1039 - val_loss: 27.3194 - val_accuracy: 0.0956\n",
      "Epoch 6/1000\n",
      "329/329 [==============================] - 1s 2ms/step - loss: 27.3191 - accuracy: 0.1028 - val_loss: 27.3193 - val_accuracy: 0.0861\n",
      "Epoch 7/1000\n",
      "329/329 [==============================] - 1s 2ms/step - loss: 27.3191 - accuracy: 0.1031 - val_loss: 27.3193 - val_accuracy: 0.1010\n",
      "Epoch 8/1000\n",
      "329/329 [==============================] - 1s 2ms/step - loss: 27.3191 - accuracy: 0.1012 - val_loss: 27.3193 - val_accuracy: 0.0658\n",
      "Epoch 9/1000\n",
      "329/329 [==============================] - 1s 2ms/step - loss: 27.3191 - accuracy: 0.1023 - val_loss: 27.3193 - val_accuracy: 0.1008\n",
      "Epoch 10/1000\n",
      "329/329 [==============================] - 1s 2ms/step - loss: 27.3191 - accuracy: 0.0977 - val_loss: 27.3193 - val_accuracy: 0.1087\n",
      "Epoch 11/1000\n",
      "329/329 [==============================] - 1s 2ms/step - loss: 27.3191 - accuracy: 0.0976 - val_loss: 27.3193 - val_accuracy: 0.1203\n",
      "Epoch 12/1000\n",
      "329/329 [==============================] - 1s 2ms/step - loss: 27.3191 - accuracy: 0.0990 - val_loss: 27.3193 - val_accuracy: 0.0928\n",
      "Epoch 13/1000\n",
      "329/329 [==============================] - 1s 2ms/step - loss: 27.3191 - accuracy: 0.0986 - val_loss: 27.3193 - val_accuracy: 0.0953\n",
      "Epoch 14/1000\n",
      "329/329 [==============================] - 1s 2ms/step - loss: 27.3191 - accuracy: 0.0991 - val_loss: 27.3193 - val_accuracy: 0.1065\n",
      "Epoch 15/1000\n",
      "329/329 [==============================] - 1s 2ms/step - loss: 27.3191 - accuracy: 0.0983 - val_loss: 27.3193 - val_accuracy: 0.0929\n",
      "Epoch 16/1000\n",
      "329/329 [==============================] - 1s 2ms/step - loss: 27.3191 - accuracy: 0.0991 - val_loss: 27.3193 - val_accuracy: 0.0953\n",
      "Epoch 17/1000\n",
      "329/329 [==============================] - 1s 2ms/step - loss: 27.3191 - accuracy: 0.1025 - val_loss: 27.3193 - val_accuracy: 0.0605\n",
      "Epoch 18/1000\n",
      "329/329 [==============================] - 1s 2ms/step - loss: 27.3191 - accuracy: 0.0992 - val_loss: 27.3193 - val_accuracy: 0.0740\n",
      "Epoch 19/1000\n",
      "329/329 [==============================] - 1s 2ms/step - loss: 27.3191 - accuracy: 0.0998 - val_loss: 27.3193 - val_accuracy: 0.1155\n",
      "Epoch 20/1000\n",
      "329/329 [==============================] - 1s 2ms/step - loss: 27.3191 - accuracy: 0.1011 - val_loss: 27.3193 - val_accuracy: 0.0846\n",
      "Epoch 21/1000\n",
      "329/329 [==============================] - 1s 2ms/step - loss: 27.3191 - accuracy: 0.0967 - val_loss: 27.3193 - val_accuracy: 0.0588\n",
      "Minimum Validation Loss: 27.3193\n"
     ]
    },
    {
     "output_type": "display_data",
     "data": {
      "text/plain": [
       "<Figure size 432x288 with 1 Axes>"
      ],
      "image/png": "[encoded data removed]"
     },
     "metadata": {}
    }
   ],
   "metadata": {}
  },
  {
   "cell_type": "code",
   "execution_count": 66,
   "source": [
    "digits_training_data = pd.read_csv('./test.csv')\r\n",
    "test_X = digits_training_data.copy()\r\n",
    "\r\n",
    "prediction = model.predict(test_X)\r\n",
    "print(prediction)\r\n",
    "# output = pd.DataFrame({'imageId': digits_training_data.Id,\r\n",
    "#                        'Label': prediction})\r\n",
    "# output.to_csv('submission.csv', index=False)\r\n",
    "# X.head()\r\n",
    "# y.head()"
   ],
   "outputs": [
    {
     "output_type": "stream",
     "name": "stdout",
     "text": [
      "[[ 2.0077026e+00  2.0129826e+00  2.0684195e+00 ...  1.9764564e+00\n",
      "   2.0132022e+00  2.0348270e+00]\n",
      " [ 3.8989097e-02 -3.9773285e-03  4.3908805e-02 ...  3.4170955e-02\n",
      "   2.3760825e-02  9.8784268e-03]\n",
      " [ 8.6154547e+00  8.5921335e+00  8.6504059e+00 ...  8.5916328e+00\n",
      "   8.6018906e+00  8.5951900e+00]\n",
      " ...\n",
      " [ 2.9972768e+00  2.9869580e+00  2.9756510e+00 ...  3.0247433e+00\n",
      "   3.0139720e+00  2.9805217e+00]\n",
      " [ 8.8540974e+00  8.8596172e+00  8.8412752e+00 ...  8.8488369e+00\n",
      "   8.8472795e+00  8.8568516e+00]\n",
      " [ 1.9845892e+00  1.9789348e+00  2.0581381e+00 ...  1.9398361e+00\n",
      "   1.9858190e+00  2.0114005e+00]]\n"
     ]
    }
   ],
   "metadata": {}
  }
 ],
 "metadata": {
  "orig_nbformat": 4,
  "language_info": {
   "name": "python",
   "version": "3.9.7",
   "mimetype": "text/x-python",
   "codemirror_mode": {
    "name": "ipython",
    "version": 3
   },
   "pygments_lexer": "ipython3",
   "nbconvert_exporter": "python",
   "file_extension": ".py"
  },
  "kernelspec": {
   "name": "python3",
   "display_name": "Python 3.9.7 64-bit ('tf': conda)"
  },
  "interpreter": {
   "hash": "f25a34d828536eaea94bc98fa02bf2fcbf5af5b65bea44899cc5ad2220dc98c9"
  }
 },
 "nbformat": 4,
 "nbformat_minor": 2
}