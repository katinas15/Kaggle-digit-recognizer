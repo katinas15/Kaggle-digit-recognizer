{
 "cells": [
  {
   "cell_type": "code",
   "execution_count": null,
   "source": [
    "load the data"
   ],
   "outputs": [],
   "metadata": {}
  },
  {
   "cell_type": "code",
   "execution_count": null,
   "source": [
    "import pandas as pd\r\n",
    "\r\n",
    "digits_training_data = pd.read_csv('./train.csv')\r\n",
    "\r\n",
    "# X is all the features I will be training the dataset on \r\n",
    "X = digits_training_data.copy().pop('label')\r\n",
    "# y is the prediction target\r\n",
    "y = digits_training_data.label"
   ],
   "outputs": [],
   "metadata": {}
  },
  {
   "cell_type": "code",
   "execution_count": null,
   "source": [
    "from sklearn.model_selection import train_test_split\r\n",
    "from sklearn.preprocessing import StandardScaler, OneHotEncoder\r\n",
    "from sklearn.impute import SimpleImputer\r\n",
    "from sklearn.pipeline import make_pipeline\r\n",
    "from sklearn.compose import make_column_transformer\r\n",
    "\r\n",
    "X['arrival_date_month'] = \\\r\n",
    "    X['arrival_date_month'].map(\r\n",
    "        {'January':1, 'February': 2, 'March':3,\r\n",
    "         'April':4, 'May':5, 'June':6, 'July':7,\r\n",
    "         'August':8, 'September':9, 'October':10,\r\n",
    "         'November':11, 'December':12}\r\n",
    "    )\r\n",
    "\r\n",
    "features_num = [\r\n",
    "    \"lead_time\", \"arrival_date_week_number\",\r\n",
    "    \"arrival_date_day_of_month\", \"stays_in_weekend_nights\",\r\n",
    "    \"stays_in_week_nights\", \"adults\", \"children\", \"babies\",\r\n",
    "    \"is_repeated_guest\", \"previous_cancellations\",\r\n",
    "    \"previous_bookings_not_canceled\", \"required_car_parking_spaces\",\r\n",
    "    \"total_of_special_requests\", \"adr\",\r\n",
    "]\r\n",
    "features_cat = [\r\n",
    "    \"hotel\", \"arrival_date_month\", \"meal\",\r\n",
    "    \"market_segment\", \"distribution_channel\",\r\n",
    "    \"reserved_room_type\", \"deposit_type\", \"customer_type\",\r\n",
    "]\r\n",
    "\r\n",
    "transformer_num = make_pipeline(\r\n",
    "    SimpleImputer(strategy=\"constant\"), # there are a few missing values\r\n",
    "    StandardScaler(),\r\n",
    ")\r\n",
    "transformer_cat = make_pipeline(\r\n",
    "    SimpleImputer(strategy=\"constant\", fill_value=\"NA\"),\r\n",
    "    OneHotEncoder(handle_unknown='ignore'),\r\n",
    ")\r\n",
    "\r\n",
    "preprocessor = make_column_transformer(\r\n",
    "    (transformer_num, features_num),\r\n",
    "    (transformer_cat, features_cat),\r\n",
    ")\r\n",
    "\r\n",
    "# stratify - make sure classes are evenlly represented across splits\r\n",
    "X_train, X_valid, y_train, y_valid = \\\r\n",
    "    train_test_split(X, y, stratify=y, train_size=0.75)\r\n",
    "\r\n",
    "X_train = preprocessor.fit_transform(X_train)\r\n",
    "X_valid = preprocessor.transform(X_valid)\r\n",
    "\r\n",
    "input_shape = [X_train.shape[1]]"
   ],
   "outputs": [],
   "metadata": {}
  },
  {
   "cell_type": "code",
   "execution_count": null,
   "source": [
    "from tensorflow import keras\r\n",
    "from tensorflow.keras import layers\r\n",
    "\r\n",
    "# YOUR CODE HERE: define the model given in the diagram\r\n",
    "model = keras.Sequential([\r\n",
    "    layers.BatchNormalization(input_shape=input_shape),\r\n",
    "    layers.Dense(256, activation='relu'),\r\n",
    "    layers.BatchNormalization(),\r\n",
    "    layers.Dropout(0.3),  \r\n",
    "    layers.Dense(256, activation='relu'),\r\n",
    "    layers.BatchNormalization(),\r\n",
    "    layers.Dropout(0.3),  \r\n",
    "    layers.Dense(1, activation='sigmoid'),\r\n",
    "])\r\n"
   ],
   "outputs": [],
   "metadata": {}
  },
  {
   "cell_type": "code",
   "execution_count": null,
   "source": [
    "# YOUR CODE HERE\r\n",
    "model.compile(\r\n",
    "    optimizer='adam',\r\n",
    "    loss='binary_crossentropy',\r\n",
    "    metrics=['binary_accuracy'],\r\n",
    ")"
   ],
   "outputs": [],
   "metadata": {}
  },
  {
   "cell_type": "code",
   "execution_count": null,
   "source": [
    "early_stopping = keras.callbacks.EarlyStopping(\r\n",
    "    patience=5,\r\n",
    "    min_delta=0.001,\r\n",
    "    restore_best_weights=True,\r\n",
    ")\r\n",
    "history = model.fit(\r\n",
    "    X_train, y_train,\r\n",
    "    validation_data=(X_valid, y_valid),\r\n",
    "    batch_size=512,\r\n",
    "    epochs=200,\r\n",
    "    callbacks=[early_stopping],\r\n",
    ")\r\n",
    "\r\n",
    "history_df = pd.DataFrame(history.history)\r\n",
    "history_df.loc[:, ['loss', 'val_loss']].plot(title=\"Cross-entropy\")\r\n",
    "history_df.loc[:, ['binary_accuracy', 'val_binary_accuracy']].plot(title=\"Accuracy\")"
   ],
   "outputs": [],
   "metadata": {}
  }
 ],
 "metadata": {
  "orig_nbformat": 4,
  "language_info": {
   "name": "python",
   "version": "3.9.1",
   "mimetype": "text/x-python",
   "codemirror_mode": {
    "name": "ipython",
    "version": 3
   },
   "pygments_lexer": "ipython3",
   "nbconvert_exporter": "python",
   "file_extension": ".py"
  },
  "kernelspec": {
   "name": "python3",
   "display_name": "Python 3.9.1 64-bit"
  },
  "interpreter": {
   "hash": "63fd5069d213b44bf678585dea6b12cceca9941eaf7f819626cde1f2670de90d"
  }
 },
 "nbformat": 4,
 "nbformat_minor": 2
}